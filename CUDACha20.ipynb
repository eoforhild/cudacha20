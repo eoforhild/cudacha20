{
 "cells": [
  {
   "cell_type": "markdown",
   "metadata": {},
   "source": [
    "## CUDACha20\n",
    "# Abstract"
   ]
  },
  {
   "cell_type": "code",
   "execution_count": 1,
   "metadata": {},
   "outputs": [],
   "source": [
    "import subprocess\n",
    "times = 5"
   ]
  },
  {
   "cell_type": "code",
   "execution_count": 2,
   "metadata": {},
   "outputs": [
    {
     "name": "stdout",
     "output_type": "stream",
     "text": [
      "0.3908 secs 8 MB keystream size\n",
      "0.3932 secs 16 MB keystream size\n",
      "0.3993 secs 32 MB keystream size\n",
      "0.3893 secs 64 MB keystream size\n",
      "0.4044 secs 128 MB keystream size\n",
      "0.4449 secs 256 MB keystream size\n"
     ]
    }
   ],
   "source": [
    "\n",
    "for g in range(0, 6):\n",
    "    avg = 0.0\n",
    "    for _ in range(times):\n",
    "        p = subprocess.Popen(\"./cha -d -i 1GB.bin -g {}\".format(8*(2**g)), stdout=subprocess.PIPE, shell=True)\n",
    "        (output, err) = p.communicate()\n",
    "        p_status = p.wait()\n",
    "        elapsed = float(str(output.decode()))\n",
    "        avg += elapsed\n",
    "    avg = avg/times\n",
    "    print(\"{:.4f} secs {} MB keystream size\".format(avg, 8*(2**g)))"
   ]
  },
  {
   "cell_type": "code",
   "execution_count": null,
   "metadata": {},
   "outputs": [],
   "source": [
    "for t in range(0, 5):\n",
    "    avg = 0.0\n",
    "    for _ in range(times):\n",
    "        p = subprocess.Popen(\"./cha -d -i 1GB.bin -t {}\".format(2**t), stdout=subprocess.PIPE, shell=True)\n",
    "        (output, err) = p.communicate()\n",
    "        p_status = p.wait()\n",
    "        elapsed = float(str(output.decode()))\n",
    "        avg += elapsed\n",
    "    avg = avg/times\n",
    "    print(\"{:.4f} secs {} threads\".format(avg, 2**t))"
   ]
  }
 ],
 "metadata": {
  "kernelspec": {
   "display_name": "base",
   "language": "python",
   "name": "python3"
  },
  "language_info": {
   "codemirror_mode": {
    "name": "ipython",
    "version": 3
   },
   "file_extension": ".py",
   "mimetype": "text/x-python",
   "name": "python",
   "nbconvert_exporter": "python",
   "pygments_lexer": "ipython3",
   "version": "3.11.5"
  }
 },
 "nbformat": 4,
 "nbformat_minor": 2
}
