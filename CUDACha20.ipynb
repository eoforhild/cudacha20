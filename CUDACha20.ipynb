{
 "cells": [
  {
   "cell_type": "markdown",
   "metadata": {},
   "source": [
    "# CUDACha20\n",
    "## Abstract\n",
    "The ChaCha20 cipher is very easy to think about in terms of parallelizing it. The keystream is generated in 64-byte blocks, and generating the keystream is done via a counter-mode-esque construction of the stream cipher. This means that the generation is not dependent on any past state (i.e. you can manually set the counter for a block, then consume that state to get a block of the keystream). This allows for easy parallelization where every thread can generate a chunk of blocks of the keystream and individually encrypt sections of the message.\n",
    "\n",
    "On the security of the stream, the cipher works a little like a pseudorandom function; hence, changing the counter of the state by just one bit result in an entirely different block output. This block output is also assumed to look indistinguishable from a randomly sampled byte string. When the block output is xor'd with the message, what you get is indistinguishable from a randomly sampled byte string.\n",
    "\n",
    "This cipher is typically used in network communication which is why it is a \"stream\" cipher because it does not require the message to be padded to exactly the size of the block. It allows for encryption of streams of data where the exact size of the message is not known."
   ]
  },
  {
   "cell_type": "markdown",
   "metadata": {},
   "source": [
    "## Specifications\n",
    "CPU: AMD Ryzen 7 5800x 8 Cores 16 Threads @ 4.8 GHz\n",
    "\n",
    "GPU: NVIDIA Geforce RTX 3060 Ti\n",
    "\n",
    "Flags: -O3, --use-fast-math (for GPU optimization since floats are not needed)\n",
    "\n",
    "Tests are all ran 5 times and averaged."
   ]
  },
  {
   "cell_type": "code",
   "execution_count": 2,
   "metadata": {},
   "outputs": [],
   "source": [
    "import subprocess\n",
    "times = 5"
   ]
  },
  {
   "cell_type": "markdown",
   "metadata": {},
   "source": [
    "## Performance Testing"
   ]
  },
  {
   "cell_type": "markdown",
   "metadata": {},
   "source": [
    "### Single-threaded Implementation\n",
    "File is read/written in 64 KB increments."
   ]
  },
  {
   "cell_type": "code",
   "execution_count": 3,
   "metadata": {},
   "outputs": [
    {
     "name": "stdout",
     "output_type": "stream",
     "text": [
      "1.2056 secs 1 thread\n"
     ]
    }
   ],
   "source": [
    "avgSingle = 0.0\n",
    "for _ in range(times):\n",
    "    p = subprocess.Popen(\"./cha -d -i 1GB.bin\", stdout=subprocess.PIPE, shell=True)\n",
    "    (output, err) = p.communicate()\n",
    "    p_status = p.wait()\n",
    "    elapsed = float(str(output.decode()))\n",
    "    avgSingle += elapsed\n",
    "avgSingle = avgSingle/times\n",
    "print(\"{:.4f} secs {} thread\".format(avgSingle, 1))"
   ]
  },
  {
   "cell_type": "markdown",
   "metadata": {},
   "source": [
    "I cannot run \"perf stat\" over a Jupyter Notebook so I will instead provide the text for it."
   ]
  },
  {
   "cell_type": "markdown",
   "metadata": {},
   "source": [
    "    Performance counter stats for './cha -i 1GB.bin':\n",
    "\n",
    "          1,195.14 msec task-clock                       #    1.000 CPUs utilized             \n",
    "                 4      context-switches                 #    3.347 /sec                      \n",
    "                 1      cpu-migrations                   #    0.837 /sec                      \n",
    "               165      page-faults                      #  138.059 /sec                      \n",
    "     5,736,082,489      cycles                           #    4.799 GHz                         (83.27%)\n",
    "         1,006,773      stalled-cycles-frontend          #    0.02% frontend cycles idle        (83.27%)\n",
    "        71,427,946      stalled-cycles-backend           #    1.25% backend cycles idle         (83.27%)\n",
    "    18,480,310,601      instructions                     #    3.22  insn per cycle            \n",
    "                                                  #    0.00  stalled cycles per insn     (83.30%)\n",
    "       215,882,816      branches                         #  180.634 M/sec                       (83.60%)\n",
    "         2,334,128      branch-misses                    #    1.08% of all branches             (83.30%)\n",
    "\n",
    "       1.195459966 seconds time elapsed\n",
    "\n",
    "       1.147260000 seconds user\n",
    "       0.048136000 seconds sys"
   ]
  },
  {
   "cell_type": "markdown",
   "metadata": {},
   "source": [
    "The file I encrypted is exactly 1,000,000,000 bytes which makes the cipher run at about 5.74 cycles/byte for a single thread implementation on my machine. This is pretty good by itself, although it can run much faster with specialized CPU instructions."
   ]
  },
  {
   "cell_type": "markdown",
   "metadata": {},
   "source": [
    "Now with writes:"
   ]
  },
  {
   "cell_type": "code",
   "execution_count": 5,
   "metadata": {},
   "outputs": [
    {
     "name": "stdout",
     "output_type": "stream",
     "text": [
      "2.1492 secs 1 thread\n"
     ]
    }
   ],
   "source": [
    "avgSingleWrites = 0.0\n",
    "for _ in range(times):\n",
    "    p = subprocess.Popen(\"./cha -d -i 1GB.bin -o out.bin\", stdout=subprocess.PIPE, shell=True)\n",
    "    (output, err) = p.communicate()\n",
    "    p_status = p.wait()\n",
    "    elapsed = float(str(output.decode()))\n",
    "    avgSingleWrites += elapsed\n",
    "avgSingleWrites = avgSingleWrites/times\n",
    "print(\"{:.4f} secs {} thread\".format(avgSingleWrites, 1))"
   ]
  },
  {
   "cell_type": "markdown",
   "metadata": {},
   "source": [
    "    Performance counter stats for './cha -i 1GB.bin -o out.bin':\n",
    "\n",
    "          2,242.22 msec task-clock                       #    0.998 CPUs utilized             \n",
    "                79      context-switches                 #   35.233 /sec                      \n",
    "                 2      cpu-migrations                   #    0.892 /sec                      \n",
    "               165      page-faults                      #   73.588 /sec                      \n",
    "    10,702,693,432      cycles                           #    4.773 GHz                         (83.29%)\n",
    "        36,861,894      stalled-cycles-frontend          #    0.34% frontend cycles idle        (83.25%)\n",
    "     1,146,846,065      stalled-cycles-backend           #   10.72% backend cycles idle         (83.48%)\n",
    "    22,510,475,924      instructions                     #    2.10  insn per cycle            \n",
    "                                                  #    0.05  stalled cycles per insn     (83.43%)\n",
    "     1,048,748,510      branches                         #  467.727 M/sec                       (83.29%)\n",
    "       101,819,946      branch-misses                    #    9.71% of all branches             (83.26%)\n",
    "\n",
    "       2.247592109 seconds time elapsed\n",
    "\n",
    "       1.121174000 seconds user\n",
    "       1.121174000 seconds sys"
   ]
  },
  {
   "cell_type": "markdown",
   "metadata": {},
   "source": [
    "Writes are capped at the speed at which the storage can write. There is not anything really of note right now."
   ]
  },
  {
   "cell_type": "markdown",
   "metadata": {},
   "source": [
    "#### Multi-threaded Implementation\n",
    "File is read/written in 64 KB increments."
   ]
  },
  {
   "cell_type": "code",
   "execution_count": 4,
   "metadata": {},
   "outputs": [
    {
     "name": "stdout",
     "output_type": "stream",
     "text": [
      "0.7523 secs 2 threads\n",
      "0.3866 secs 4 threads\n",
      "0.1996 secs 8 threads\n",
      "0.1494 secs 16 threads\n",
      "0.1539 secs 32 threads\n",
      "0.1554 secs 64 threads\n"
     ]
    }
   ],
   "source": [
    "avgThreads = []\n",
    "for t in range(1, 7):\n",
    "    avg = 0.0\n",
    "    for _ in range(times):\n",
    "        p = subprocess.Popen(\"./cha -d -i 1GB.bin -t {}\".format(2**t), stdout=subprocess.PIPE, shell=True)\n",
    "        (output, err) = p.communicate()\n",
    "        p_status = p.wait()\n",
    "        elapsed = float(str(output.decode()))\n",
    "        avg += elapsed\n",
    "    avg = avg/times\n",
    "    print(\"{:.4f} secs {} threads\".format(avg, 2**t))\n",
    "    avgThreads.append(avg)"
   ]
  },
  {
   "cell_type": "markdown",
   "metadata": {},
   "source": [
    "    Performance counter stats for './cha -i 1GB.bin -t 16':\n",
    "\n",
    "          2,193.48 msec task-clock                       #   14.226 CPUs utilized             \n",
    "            10,574      context-switches                 #    4.821 K/sec                     \n",
    "                78      cpu-migrations                   #   35.560 /sec                      \n",
    "               490      page-faults                      #  223.390 /sec                      \n",
    "     9,911,978,038      cycles                           #    4.519 GHz                         (81.29%)\n",
    "        15,054,807      stalled-cycles-frontend          #    0.15% frontend cycles idle        (83.59%)\n",
    "       319,772,834      stalled-cycles-backend           #    3.23% backend cycles idle         (83.32%)\n",
    "    18,614,726,939      instructions                     #    1.88  insn per cycle            \n",
    "                                                  #    0.02  stalled cycles per insn     (84.18%)\n",
    "       247,398,782      branches                         #  112.788 M/sec                       (84.68%)\n",
    "         5,804,184      branch-misses                    #    2.35% of all branches             (83.09%)\n",
    "\n",
    "       0.154187514 seconds time elapsed\n",
    "\n",
    "       1.996491000 seconds user\n",
    "       0.183310000 seconds sys"
   ]
  },
  {
   "cell_type": "markdown",
   "metadata": {},
   "source": [
    "The performance scales almost linearly as the number of threads increase, capping at around 16 threads. Amdahl's law can be seen in action here. The cipher is trivially easy to parallelize with threads allowing it to utilize the maximum extent of my CPU. The parallel parts of file encryption make up a majority of the processing done. The only serial part of the program is the keystream generation at a certain block."
   ]
  },
  {
   "cell_type": "markdown",
   "metadata": {},
   "source": [
    "With writes enabled:"
   ]
  },
  {
   "cell_type": "code",
   "execution_count": 6,
   "metadata": {},
   "outputs": [
    {
     "name": "stdout",
     "output_type": "stream",
     "text": [
      "1.1394 secs 2 threads\n",
      "0.8012 secs 4 threads\n",
      "0.9165 secs 8 threads\n",
      "0.9179 secs 16 threads\n",
      "0.9409 secs 32 threads\n",
      "0.9633 secs 64 threads\n"
     ]
    }
   ],
   "source": [
    "avgThreadsWrites = []\n",
    "for t in range(1, 7):\n",
    "    avg = 0.0\n",
    "    for _ in range(times):\n",
    "        p = subprocess.Popen(\"./cha -d -i 1GB.bin -o out.bin -t {}\".format(2**t), stdout=subprocess.PIPE, shell=True)\n",
    "        (output, err) = p.communicate()\n",
    "        p_status = p.wait()\n",
    "        elapsed = float(str(output.decode()))\n",
    "        avg += elapsed\n",
    "    avg = avg/times\n",
    "    print(\"{:.4f} secs {} threads\".format(avg, 2**t))\n",
    "    avgThreadsWrites.append(avg)"
   ]
  },
  {
   "cell_type": "markdown",
   "metadata": {},
   "source": [
    "    Performance counter stats for './cha -i 1GB.bin -o out.bin -t 16':\n",
    "\n",
    "          2,405.45 msec task-clock                       #    2.486 CPUs utilized             \n",
    "            14,687      context-switches                 #    6.106 K/sec                     \n",
    "               702      cpu-migrations                   #  291.838 /sec                      \n",
    "               491      page-faults                      #  204.120 /sec                      \n",
    "    10,249,780,036      cycles                           #    4.261 GHz                         (83.73%)\n",
    "        41,165,361      stalled-cycles-frontend          #    0.40% frontend cycles idle        (83.16%)\n",
    "       696,573,470      stalled-cycles-backend           #    6.80% backend cycles idle         (83.70%)\n",
    "    21,724,201,076      instructions                     #    2.12  insn per cycle            \n",
    "                                                  #    0.03  stalled cycles per insn     (84.99%)\n",
    "       898,568,706      branches                         #  373.556 M/sec                       (82.31%)\n",
    "        84,161,079      branch-misses                    #    9.37% of all branches             (82.15%)\n",
    "\n",
    "       0.967711947 seconds time elapsed\n",
    "\n",
    "       1.346630000 seconds user\n",
    "       1.054590000 seconds sys"
   ]
  },
  {
   "cell_type": "markdown",
   "metadata": {},
   "source": []
  },
  {
   "cell_type": "code",
   "execution_count": 5,
   "metadata": {},
   "outputs": [
    {
     "name": "stdout",
     "output_type": "stream",
     "text": [
      "0.3800 secs 1 MB keystream size\n",
      "0.3624 secs 2 MB keystream size\n",
      "0.3867 secs 4 MB keystream size\n",
      "0.3903 secs 8 MB keystream size\n",
      "0.4018 secs 16 MB keystream size\n",
      "0.4056 secs 32 MB keystream size\n",
      "0.3875 secs 64 MB keystream size\n",
      "0.4029 secs 128 MB keystream size\n",
      "0.4483 secs 256 MB keystream size\n"
     ]
    }
   ],
   "source": [
    "avgGPU = []\n",
    "for g in range(0, 9):\n",
    "    avg = 0.0\n",
    "    for _ in range(times):\n",
    "        p = subprocess.Popen(\"./cha -d -i 1GB.bin -g {}\".format(1*(2**g)), stdout=subprocess.PIPE, shell=True)\n",
    "        (output, err) = p.communicate()\n",
    "        p_status = p.wait()\n",
    "        elapsed = float(str(output.decode()))\n",
    "        avg += elapsed\n",
    "    avg = avg/times\n",
    "    print(\"{:.4f} secs {} MB keystream size\".format(avg, 1*(2**g)))\n",
    "    avgGPU.append(avg)"
   ]
  }
 ],
 "metadata": {
  "kernelspec": {
   "display_name": "base",
   "language": "python",
   "name": "python3"
  },
  "language_info": {
   "codemirror_mode": {
    "name": "ipython",
    "version": 3
   },
   "file_extension": ".py",
   "mimetype": "text/x-python",
   "name": "python",
   "nbconvert_exporter": "python",
   "pygments_lexer": "ipython3",
   "version": "3.12.0"
  }
 },
 "nbformat": 4,
 "nbformat_minor": 2
}
